{
 "cells": [
  {
   "cell_type": "code",
   "execution_count": 1,
   "metadata": {
    "collapsed": false
   },
   "outputs": [
    {
     "name": "stdout",
     "output_type": "stream",
     "text": [
      "1000\n"
     ]
    }
   ],
   "source": [
    "#import required packages\n",
    "import tweepy\n",
    "import pandas as pd\n",
    "import matplotlib.pyplot as plt\n",
    "\n",
    "\n",
    "# Make the graphs prettier\n",
    "pd.set_option('display.mpl_style', 'default')\n",
    "\n",
    "consumerKey = 'mo2l5Rx5lsr4FtDsVCoNzrPSS'\n",
    "consumerSecret = 'YaxiWDUWyteopJNyqUCpW1XR1k7R87LJihhBgC1OS47UyqqW4E'\n",
    "\n",
    "#Use tweepy.OAuthHandler to create an authentication using the given key and secret\n",
    "auth = tweepy.OAuthHandler(consumer_key=consumerKey, consumer_secret=consumerSecret)\n",
    "\n",
    "#Connect to the Twitter API using the authentication\n",
    "api = tweepy.API(auth)\n",
    "\n",
    "#Perform a basic search query where we search for the '#Oscars2015' in the tweets\n",
    "results = []\n",
    "\n",
    "for tweet in tweepy.Cursor(api.search, q=\"google\").items(1000):\n",
    "    results.append(tweet)\n",
    "\n",
    "print (len(results))\n"
   ]
  },
  {
   "cell_type": "code",
   "execution_count": 2,
   "metadata": {
    "collapsed": false
   },
   "outputs": [
    {
     "data": {
      "text/html": [
       "<div>\n",
       "<table border=\"1\" class=\"dataframe\">\n",
       "  <thead>\n",
       "    <tr style=\"text-align: right;\">\n",
       "      <th></th>\n",
       "      <th>tweetID</th>\n",
       "      <th>userTimezone</th>\n",
       "    </tr>\n",
       "  </thead>\n",
       "  <tbody>\n",
       "    <tr>\n",
       "      <th>0</th>\n",
       "      <td>675612875721867265</td>\n",
       "      <td>None</td>\n",
       "    </tr>\n",
       "    <tr>\n",
       "      <th>1</th>\n",
       "      <td>675612875105288192</td>\n",
       "      <td>Irkutsk</td>\n",
       "    </tr>\n",
       "    <tr>\n",
       "      <th>2</th>\n",
       "      <td>675612875054972928</td>\n",
       "      <td>None</td>\n",
       "    </tr>\n",
       "    <tr>\n",
       "      <th>3</th>\n",
       "      <td>675612874882998272</td>\n",
       "      <td>Tokyo</td>\n",
       "    </tr>\n",
       "    <tr>\n",
       "      <th>4</th>\n",
       "      <td>675612874182631425</td>\n",
       "      <td>None</td>\n",
       "    </tr>\n",
       "  </tbody>\n",
       "</table>\n",
       "</div>"
      ],
      "text/plain": [
       "              tweetID userTimezone\n",
       "0  675612875721867265         None\n",
       "1  675612875105288192      Irkutsk\n",
       "2  675612875054972928         None\n",
       "3  675612874882998272        Tokyo\n",
       "4  675612874182631425         None"
      ]
     },
     "execution_count": 2,
     "metadata": {},
     "output_type": "execute_result"
    }
   ],
   "source": [
    "#convert tweets in pandas DataFrame\n",
    "def toDataFrame(tweets):\n",
    "    DataSet = pd.DataFrame()\n",
    "    DataSet['tweetID'] = [tweet.id for tweet in tweets]\n",
    "    DataSet['userTimezone'] = [tweet.user.time_zone for tweet in tweets]\n",
    "    return DataSet\n",
    "\n",
    "\n",
    "DataSet = toDataFrame(results)\n",
    "DataSet.head(5)"
   ]
  },
  {
   "cell_type": "code",
   "execution_count": 3,
   "metadata": {
    "collapsed": false
   },
   "outputs": [
    {
     "data": {
      "text/plain": [
       "534"
      ]
     },
     "execution_count": 3,
     "metadata": {},
     "output_type": "execute_result"
    }
   ],
   "source": [
    "#removing invalid timezone record i.e. timezone with none. \n",
    "\n",
    "DataSet = DataSet[DataSet.userTimezone.notnull()]\n",
    "len(DataSet)"
   ]
  },
  {
   "cell_type": "code",
   "execution_count": 4,
   "metadata": {
    "collapsed": false
   },
   "outputs": [
    {
     "data": {
      "text/html": [
       "<div>\n",
       "<table border=\"1\" class=\"dataframe\">\n",
       "  <thead>\n",
       "    <tr style=\"text-align: right;\">\n",
       "      <th></th>\n",
       "      <th>tweetID</th>\n",
       "      <th>userTimezone</th>\n",
       "    </tr>\n",
       "  </thead>\n",
       "  <tbody>\n",
       "    <tr>\n",
       "      <th>984</th>\n",
       "      <td>675612219305025536</td>\n",
       "      <td>Pacific Time (US &amp; Canada)</td>\n",
       "    </tr>\n",
       "    <tr>\n",
       "      <th>986</th>\n",
       "      <td>675612214552748032</td>\n",
       "      <td>Irkutsk</td>\n",
       "    </tr>\n",
       "    <tr>\n",
       "      <th>987</th>\n",
       "      <td>675612213923581952</td>\n",
       "      <td>Jakarta</td>\n",
       "    </tr>\n",
       "    <tr>\n",
       "      <th>988</th>\n",
       "      <td>675612213705613312</td>\n",
       "      <td>Jakarta</td>\n",
       "    </tr>\n",
       "    <tr>\n",
       "      <th>989</th>\n",
       "      <td>675612213227479040</td>\n",
       "      <td>Paris</td>\n",
       "    </tr>\n",
       "    <tr>\n",
       "      <th>991</th>\n",
       "      <td>675612211298091008</td>\n",
       "      <td>Madrid</td>\n",
       "    </tr>\n",
       "    <tr>\n",
       "      <th>992</th>\n",
       "      <td>675612209825710080</td>\n",
       "      <td>Pacific Time (US &amp; Canada)</td>\n",
       "    </tr>\n",
       "    <tr>\n",
       "      <th>993</th>\n",
       "      <td>675612208664027136</td>\n",
       "      <td>Ljubljana</td>\n",
       "    </tr>\n",
       "    <tr>\n",
       "      <th>995</th>\n",
       "      <td>675612208378712064</td>\n",
       "      <td>Tokyo</td>\n",
       "    </tr>\n",
       "    <tr>\n",
       "      <th>996</th>\n",
       "      <td>675612205279281152</td>\n",
       "      <td>Pacific Time (US &amp; Canada)</td>\n",
       "    </tr>\n",
       "  </tbody>\n",
       "</table>\n",
       "</div>"
      ],
      "text/plain": [
       "                tweetID                userTimezone\n",
       "984  675612219305025536  Pacific Time (US & Canada)\n",
       "986  675612214552748032                     Irkutsk\n",
       "987  675612213923581952                     Jakarta\n",
       "988  675612213705613312                     Jakarta\n",
       "989  675612213227479040                       Paris\n",
       "991  675612211298091008                      Madrid\n",
       "992  675612209825710080  Pacific Time (US & Canada)\n",
       "993  675612208664027136                   Ljubljana\n",
       "995  675612208378712064                       Tokyo\n",
       "996  675612205279281152  Pacific Time (US & Canada)"
      ]
     },
     "execution_count": 4,
     "metadata": {},
     "output_type": "execute_result"
    }
   ],
   "source": [
    "DataSet.tail(10)"
   ]
  },
  {
   "cell_type": "code",
   "execution_count": 18,
   "metadata": {
    "collapsed": false
   },
   "outputs": [
    {
     "name": "stdout",
     "output_type": "stream",
     "text": [
      "Pacific Time (US & Canada)        76\n",
      "Tokyo                             69\n",
      "Eastern Time (US & Canada)        42\n",
      "Hawaii                            20\n",
      "Jakarta                           20\n",
      "Arizona                           17\n",
      "Paris                             16\n",
      "Madrid                            15\n",
      "Irkutsk                           15\n",
      "Rome                              13\n",
      "Central Time (US & Canada)        13\n",
      "London                            13\n",
      "Athens                            12\n",
      "Brasilia                          11\n",
      "Greenland                         11\n",
      "Quito                             10\n",
      "Baghdad                           10\n",
      "Seoul                              9\n",
      "New Delhi                          8\n",
      "Beijing                            7\n",
      "Kuala Lumpur                       7\n",
      "Caracas                            6\n",
      "Jerusalem                          6\n",
      "Amsterdam                          5\n",
      "Ljubljana                          5\n",
      "Bangkok                            5\n",
      "Moscow                             5\n",
      "Hanoi                              5\n",
      "Atlantic Time (Canada)             5\n",
      "Dublin                             5\n",
      "                                  ..\n",
      "Midway Island                      2\n",
      "Nairobi                            2\n",
      "Bucharest                          2\n",
      "Islamabad                          2\n",
      "Wellington                         1\n",
      "Central America                    1\n",
      "Istanbul                           1\n",
      "America/Asuncion                   1\n",
      "Muscat                             1\n",
      "Asia/Jerusalem                     1\n",
      "Perth                              1\n",
      "Riyadh                             1\n",
      "Tallinn                            1\n",
      "Monterrey                          1\n",
      "Kabul                              1\n",
      "Asia/Aden                          1\n",
      "Karachi                            1\n",
      "Taipei                             1\n",
      "Guam                               1\n",
      "Krasnoyarsk                        1\n",
      "Casablanca                         1\n",
      "Kiev                               1\n",
      "America/Argentina/Buenos_Aires     1\n",
      "Tashkent                           1\n",
      "Mumbai                             1\n",
      "Lisbon                             1\n",
      "St. Petersburg                     1\n",
      "Cairo                              1\n",
      "Indiana (East)                     1\n",
      "Monrovia                           1\n",
      "Name: userTimezone, dtype: int64\n"
     ]
    }
   ],
   "source": [
    "#counting numbers of tweets per timezone\n",
    "tzs = DataSet['userTimezone'].value_counts()\n",
    "print(tzs)"
   ]
  },
  {
   "cell_type": "code",
   "execution_count": 19,
   "metadata": {
    "collapsed": false
   },
   "outputs": [
    {
     "name": "stdout",
     "output_type": "stream",
     "text": [
      "Pacific Time (US & Canada)    76\n",
      "Tokyo                         69\n",
      "Eastern Time (US & Canada)    42\n",
      "Hawaii                        20\n",
      "Jakarta                       20\n",
      "Arizona                       17\n",
      "Paris                         16\n",
      "Madrid                        15\n",
      "Irkutsk                       15\n",
      "Rome                          13\n",
      "Name: userTimezone, dtype: int64\n"
     ]
    }
   ],
   "source": [
    "#select only top 10 entries \n",
    "tzs_top10 = tzs[:10]\n",
    "print(tzs_top10)"
   ]
  },
  {
   "cell_type": "code",
   "execution_count": 20,
   "metadata": {
    "collapsed": false
   },
   "outputs": [
    {
     "name": "stdout",
     "output_type": "stream",
     "text": [
      "Monrovia                          1\n",
      "Indiana (East)                    1\n",
      "Cairo                             1\n",
      "St. Petersburg                    1\n",
      "Lisbon                            1\n",
      "Mumbai                            1\n",
      "Tashkent                          1\n",
      "America/Argentina/Buenos_Aires    1\n",
      "Kiev                              1\n",
      "Name: userTimezone, dtype: int64\n"
     ]
    }
   ],
   "source": [
    "tzs_last10 = tzs[:-10:-1]\n",
    "print(tzs_last10)"
   ]
  },
  {
   "cell_type": "code",
   "execution_count": 30,
   "metadata": {
    "collapsed": false
   },
   "outputs": [
    {
     "data": {
      "image/png": "[encoded data removed]",
      "text/plain": [
       "<matplotlib.figure.Figure at 0x1dfa0377a90>"
      ]
     },
     "metadata": {},
     "output_type": "display_data"
    }
   ],
   "source": [
    "%matplotlib inline\n",
    "\n",
    "# Create a bar-graph figure of the specified size\n",
    "plt.rcParams['figure.figsize'] = (15, 5)\n",
    "\n",
    "# Plot the Time Zone data as a bar-graph\n",
    "tzs_top10.plot(kind='bar')\n",
    "\n",
    "\n",
    "# Assign labels and title to the graph to make it more presentable\n",
    "plt.xlabel('Timezones')\n",
    "plt.ylabel('Tweet Count')\n",
    "plt.title('Top 10 Timezones tweeting about Google')\n",
    "plt.show()"
   ]
  },
  {
   "cell_type": "code",
   "execution_count": 31,
   "metadata": {
    "collapsed": false
   },
   "outputs": [
    {
     "data": {
      "image/png": "[encoded data removed]",
      "text/plain": [
       "<matplotlib.figure.Figure at 0x1dfa032d5c0>"
      ]
     },
     "metadata": {},
     "output_type": "display_data"
    }
   ],
   "source": [
    "tzs_last10.plot(kind='bar')\n",
    "\n",
    "\n",
    "# Assign labels and title to the graph to make it more presentable\n",
    "plt.xlabel('Timezones')\n",
    "plt.ylabel('Tweet Count')\n",
    "plt.title('Top 10 Timezones tweeting about Google')\n",
    "plt.show()"
   ]
  },
  {
   "cell_type": "code",
   "execution_count": null,
   "metadata": {
    "collapsed": true
   },
   "outputs": [],
   "source": []
  },
  {
   "cell_type": "code",
   "execution_count": null,
   "metadata": {
    "collapsed": true
   },
   "outputs": [],
   "source": []
  }
 ],
 "metadata": {
  "kernelspec": {
   "display_name": "Python 3",
   "language": "python",
   "name": "python3"
  },
  "language_info": {
   "codemirror_mode": {
    "name": "ipython",
    "version": 3
   },
   "file_extension": ".py",
   "mimetype": "text/x-python",
   "name": "python",
   "nbconvert_exporter": "python",
   "pygments_lexer": "ipython3",
   "version": "3.5.1"
  }
 },
 "nbformat": 4,
 "nbformat_minor": 0
}
